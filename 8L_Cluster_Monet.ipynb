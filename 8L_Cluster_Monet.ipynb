{
  "nbformat": 4,
  "nbformat_minor": 0,
  "metadata": {
    "colab": {
      "name": "8L_Cluster_Monet.ipynb",
      "provenance": [],
      "authorship_tag": "ABX9TyMIRgCSYNrT/r1A8OdqRepA",
      "include_colab_link": true
    },
    "kernelspec": {
      "name": "python3",
      "display_name": "Python 3"
    },
    "language_info": {
      "name": "python"
    },
    "accelerator": "GPU"
  },
  "cells": [
    {
      "cell_type": "markdown",
      "metadata": {
        "id": "view-in-github",
        "colab_type": "text"
      },
      "source": [
        "<a href=\"https://colab.research.google.com/github/SathyaSudha-96/Erdos/blob/main/8L_Cluster_Monet.ipynb\" target=\"_parent\"><img src=\"https://colab.research.google.com/assets/colab-badge.svg\" alt=\"Open In Colab\"/></a>"
      ]
    },
    {
      "cell_type": "code",
      "metadata": {
        "colab": {
          "base_uri": "https://localhost:8080/"
        },
        "id": "cDppu46L-Pn1",
        "outputId": "7a508654-d6bd-4331-b08e-b64678ccb390"
      },
      "source": [
        "!pip install -q condacolab\n",
        "import condacolab\n",
        "condacolab.install_anaconda()"
      ],
      "execution_count": 1,
      "outputs": [
        {
          "output_type": "stream",
          "text": [
            "✨🍰✨ Everything looks OK!\n"
          ],
          "name": "stdout"
        }
      ]
    },
    {
      "cell_type": "code",
      "metadata": {
        "colab": {
          "base_uri": "https://localhost:8080/"
        },
        "id": "yrPJo_xr_g6l",
        "outputId": "faa10d1f-dc04-4a11-8c86-2e737f2ec778"
      },
      "source": [
        "from google.colab import drive\n",
        "drive.mount('/content/drive')"
      ],
      "execution_count": 3,
      "outputs": [
        {
          "output_type": "stream",
          "text": [
            "Drive already mounted at /content/drive; to attempt to forcibly remount, call drive.mount(\"/content/drive\", force_remount=True).\n"
          ],
          "name": "stdout"
        }
      ]
    },
    {
      "cell_type": "code",
      "metadata": {
        "colab": {
          "base_uri": "https://localhost:8080/",
          "height": 35
        },
        "id": "ViKKR_ea_hUx",
        "outputId": "c4fbbb0f-3316-49d5-996a-9c02327630f3"
      },
      "source": [
        "%pwd"
      ],
      "execution_count": 4,
      "outputs": [
        {
          "output_type": "execute_result",
          "data": {
            "application/vnd.google.colaboratory.intrinsic+json": {
              "type": "string"
            },
            "text/plain": [
              "'/content'"
            ]
          },
          "metadata": {
            "tags": []
          },
          "execution_count": 4
        }
      ]
    },
    {
      "cell_type": "code",
      "metadata": {
        "colab": {
          "base_uri": "https://localhost:8080/"
        },
        "id": "9kmVi2gb_jKD",
        "outputId": "a841cf2e-c7b7-4e37-cee5-5d45398b5ffc"
      },
      "source": [
        "# Execution time 4m 18s\n",
        "%cp -av /content/drive/MyDrive/'Colab Notebooks'/benchmarking-gnns /content"
      ],
      "execution_count": 5,
      "outputs": [
        {
          "output_type": "stream",
          "text": [
            "removed '/content/benchmarking-gnns'\n",
            "'/content/drive/MyDrive/Colab Notebooks/benchmarking-gnns' -> '/content/benchmarking-gnns'\n"
          ],
          "name": "stdout"
        }
      ]
    },
    {
      "cell_type": "code",
      "metadata": {
        "colab": {
          "base_uri": "https://localhost:8080/"
        },
        "id": "vulYpMu4_nHF",
        "outputId": "0815c566-6a42-41dd-b983-348b8c736be2"
      },
      "source": [
        "%cd benchmarking-gnns"
      ],
      "execution_count": 6,
      "outputs": [
        {
          "output_type": "stream",
          "text": [
            "/content/drive/.shortcut-targets-by-id/1ESR7fUf1K4JPn8JFZyNvNQnIP5rXrY_r/benchmarking-gnns\n"
          ],
          "name": "stdout"
        }
      ]
    },
    {
      "cell_type": "code",
      "metadata": {
        "colab": {
          "base_uri": "https://localhost:8080/"
        },
        "id": "0caybLG8_qTv",
        "outputId": "cad95cb3-c88a-42eb-8073-d8224da5e9ef"
      },
      "source": [
        "%cd /content/benchmarking-gnns/"
      ],
      "execution_count": 7,
      "outputs": [
        {
          "output_type": "stream",
          "text": [
            "/content/drive/.shortcut-targets-by-id/1ESR7fUf1K4JPn8JFZyNvNQnIP5rXrY_r/benchmarking-gnns\n"
          ],
          "name": "stdout"
        }
      ]
    },
    {
      "cell_type": "code",
      "metadata": {
        "colab": {
          "base_uri": "https://localhost:8080/"
        },
        "id": "qPpMiqYH_t8R",
        "outputId": "4e363886-f598-47ad-a98a-0fc2ef9e2484"
      },
      "source": [
        "!conda env create -f /content/benchmarking-gnns/environment_gpu.yml"
      ],
      "execution_count": 8,
      "outputs": [
        {
          "output_type": "stream",
          "text": [
            "\n",
            "CondaValueError: prefix already exists: /usr/local/envs/benchmark_gnn\n",
            "\n"
          ],
          "name": "stdout"
        }
      ]
    },
    {
      "cell_type": "code",
      "metadata": {
        "colab": {
          "base_uri": "https://localhost:8080/"
        },
        "id": "7QuzouQv_xma",
        "outputId": "ae1be66c-6f0e-457c-9256-e91301161e91"
      },
      "source": [
        "!conda activate benchmark_gnn"
      ],
      "execution_count": 9,
      "outputs": [
        {
          "output_type": "stream",
          "text": [
            "\n",
            "CommandNotFoundError: Your shell has not been properly configured to use 'conda activate'.\n",
            "To initialize your shell, run\n",
            "\n",
            "    $ conda init <SHELL_NAME>\n",
            "\n",
            "Currently supported shells are:\n",
            "  - bash\n",
            "  - fish\n",
            "  - tcsh\n",
            "  - xonsh\n",
            "  - zsh\n",
            "  - powershell\n",
            "\n",
            "See 'conda init --help' for more information and options.\n",
            "\n",
            "IMPORTANT: You may need to close and restart your shell after running 'conda init'.\n",
            "\n",
            "\n"
          ],
          "name": "stdout"
        }
      ]
    },
    {
      "cell_type": "code",
      "metadata": {
        "colab": {
          "base_uri": "https://localhost:8080/"
        },
        "id": "Eq0KP__ZAWjM",
        "outputId": "853fc54e-4493-4541-f102-452d2d82dd7a"
      },
      "source": [
        "!pip install dgl-cu101\n",
        "#!pip install tensorboardX\n",
        "!pip install pytorch\n",
        "#!pip install dgl\n",
        "!pip install tensorboardX"
      ],
      "execution_count": 10,
      "outputs": [
        {
          "output_type": "stream",
          "text": [
            "Requirement already satisfied: dgl-cu101 in /usr/local/lib/python3.7/site-packages (0.6.1)\n",
            "Requirement already satisfied: networkx>=2.1 in /usr/local/lib/python3.7/site-packages (from dgl-cu101) (2.4)\n",
            "Requirement already satisfied: numpy>=1.14.0 in /usr/local/lib/python3.7/site-packages (from dgl-cu101) (1.18.1)\n",
            "Requirement already satisfied: scipy>=1.1.0 in /usr/local/lib/python3.7/site-packages (from dgl-cu101) (1.4.1)\n",
            "Requirement already satisfied: requests>=2.19.0 in /usr/local/lib/python3.7/site-packages (from dgl-cu101) (2.22.0)\n",
            "Requirement already satisfied: decorator>=4.3.0 in /usr/local/lib/python3.7/site-packages (from networkx>=2.1->dgl-cu101) (4.4.1)\n",
            "Requirement already satisfied: certifi>=2017.4.17 in /usr/local/lib/python3.7/site-packages (from requests>=2.19.0->dgl-cu101) (2019.11.28)\n",
            "Requirement already satisfied: idna<2.9,>=2.5 in /usr/local/lib/python3.7/site-packages (from requests>=2.19.0->dgl-cu101) (2.8)\n",
            "Requirement already satisfied: chardet<3.1.0,>=3.0.2 in /usr/local/lib/python3.7/site-packages (from requests>=2.19.0->dgl-cu101) (3.0.4)\n",
            "Requirement already satisfied: urllib3!=1.25.0,!=1.25.1,<1.26,>=1.21.1 in /usr/local/lib/python3.7/site-packages (from requests>=2.19.0->dgl-cu101) (1.25.8)\n",
            "Collecting pytorch\n",
            "  Using cached pytorch-1.0.2.tar.gz (689 bytes)\n",
            "Building wheels for collected packages: pytorch\n",
            "  Building wheel for pytorch (setup.py) ... \u001b[?25lerror\n",
            "\u001b[31m  ERROR: Failed building wheel for pytorch\u001b[0m\n",
            "\u001b[?25h  Running setup.py clean for pytorch\n",
            "Failed to build pytorch\n",
            "Installing collected packages: pytorch\n",
            "    Running setup.py install for pytorch ... \u001b[?25l\u001b[?25herror\n",
            "\u001b[31mERROR: Command errored out with exit status 1: /usr/local/bin/python -u -c 'import sys, setuptools, tokenize; sys.argv[0] = '\"'\"'/tmp/pip-install-c__cnmdh/pytorch/setup.py'\"'\"'; __file__='\"'\"'/tmp/pip-install-c__cnmdh/pytorch/setup.py'\"'\"';f=getattr(tokenize, '\"'\"'open'\"'\"', open)(__file__);code=f.read().replace('\"'\"'\\r\\n'\"'\"', '\"'\"'\\n'\"'\"');f.close();exec(compile(code, __file__, '\"'\"'exec'\"'\"'))' install --record /tmp/pip-record-hwnyt3hg/install-record.txt --single-version-externally-managed --compile --install-headers /usr/local/include/python3.7m/pytorch Check the logs for full command output.\u001b[0m\n",
            "Requirement already satisfied: tensorboardX in /usr/local/lib/python3.7/site-packages (2.4)\n",
            "Requirement already satisfied: numpy in /usr/local/lib/python3.7/site-packages (from tensorboardX) (1.18.1)\n",
            "Requirement already satisfied: protobuf>=3.8.0 in /usr/local/lib/python3.7/site-packages (from tensorboardX) (3.17.3)\n",
            "Requirement already satisfied: six>=1.9 in /usr/local/lib/python3.7/site-packages (from protobuf>=3.8.0->tensorboardX) (1.14.0)\n"
          ],
          "name": "stdout"
        }
      ]
    },
    {
      "cell_type": "code",
      "metadata": {
        "colab": {
          "base_uri": "https://localhost:8080/"
        },
        "id": "-R2rQ6TeAZoS",
        "outputId": "f7cdd3f6-049d-42ad-a0f6-93c1d0034037"
      },
      "source": [
        "import dgl\n",
        "import numpy as np\n",
        "import os\n",
        "import socket\n",
        "import time\n",
        "import random\n",
        "import glob\n",
        "import argparse, json\n",
        "import pickle\n",
        "\n",
        "import torch\n",
        "import torch.nn as nn\n",
        "import torch.nn.functional as F\n",
        "\n",
        "import torch.optim as optim\n",
        "from torch.utils.data import DataLoader\n",
        "\n",
        "from tensorboardX import SummaryWriter\n",
        "from tqdm import tqdm\n",
        "\n",
        "class DotDict(dict):\n",
        "    def __init__(self, **kwds):\n",
        "        self.update(kwds)\n",
        "        self.__dict__ = self"
      ],
      "execution_count": 11,
      "outputs": [
        {
          "output_type": "stream",
          "text": [
            "Using backend: pytorch\n"
          ],
          "name": "stderr"
        }
      ]
    },
    {
      "cell_type": "code",
      "metadata": {
        "colab": {
          "base_uri": "https://localhost:8080/"
        },
        "id": "yGGUM17pAdb7",
        "outputId": "e3738ecd-d3fe-459a-9702-4d6223eb58d6"
      },
      "source": [
        "# \"\"\"\n",
        "#     AUTORELOAD IPYTHON EXTENSION FOR RELOADING IMPORTED MODULES\n",
        "# \"\"\"\n",
        "\n",
        "def in_ipynb():\n",
        "    try:\n",
        "        cfg = get_ipython().config \n",
        "        return True\n",
        "    except NameError:\n",
        "        return False\n",
        "    \n",
        "notebook_mode = in_ipynb()\n",
        "print(notebook_mode)\n",
        "\n",
        "if notebook_mode == True:\n",
        "    %load_ext autoreload\n",
        "    %autoreload 2"
      ],
      "execution_count": 12,
      "outputs": [
        {
          "output_type": "stream",
          "text": [
            "True\n"
          ],
          "name": "stdout"
        }
      ]
    },
    {
      "cell_type": "code",
      "metadata": {
        "id": "L8MhDzpvAh9m"
      },
      "source": [
        "\"\"\"\n",
        "    IMPORTING CUSTOM MODULES/METHODS\n",
        "\"\"\"\n",
        "\n",
        "from nets.SBMs_node_classification.load_net import gnn_model # import GNNs\n",
        "from data.data import LoadData # import dataset"
      ],
      "execution_count": 13,
      "outputs": []
    },
    {
      "cell_type": "code",
      "metadata": {
        "id": "u7X04_tFAlG1"
      },
      "source": [
        "\"\"\"\n",
        "    GPU Setup\n",
        "\"\"\"\n",
        "def gpu_setup(use_gpu, gpu_id):\n",
        "    os.environ[\"CUDA_DEVICE_ORDER\"] = \"PCI_BUS_ID\"\n",
        "    os.environ[\"CUDA_VISIBLE_DEVICES\"] = str(gpu_id)  \n",
        "\n",
        "    if torch.cuda.is_available() and use_gpu:\n",
        "        print('cuda available with GPU:',torch.cuda.get_device_name(0))\n",
        "        device = torch.device(\"cuda\")\n",
        "    else:\n",
        "        print('cuda not available')\n",
        "        device = torch.device(\"cpu\")\n",
        "    return device\n",
        "\n",
        "\n",
        "# select GPU or CPU\n",
        "use_gpu = True; gpu_id = 0; device = None # default GPU\n",
        "#use_gpu = False; gpu_id = -1; device = None # CPU"
      ],
      "execution_count": 14,
      "outputs": []
    },
    {
      "cell_type": "code",
      "metadata": {
        "colab": {
          "base_uri": "https://localhost:8080/"
        },
        "id": "lztZFinZAqPN",
        "outputId": "1a8c509b-951c-4e0c-c224-ad649d31a1ac"
      },
      "source": [
        "# \"\"\"\n",
        "#     USER CONTROLS\n",
        "# \"\"\"\n",
        "if notebook_mode == True:\n",
        "    \n",
        "    #MODEL_NAME = '3WLGNN'\n",
        "    #MODEL_NAME = 'RingGNN'\n",
        "    #MODEL_NAME = 'GatedGCN'\n",
        "    #MODEL_NAME = 'GCN'\n",
        "    #MODEL_NAME = 'GAT'\n",
        "    #MODEL_NAME = 'GraphSage'\n",
        "    #MODEL_NAME = 'MLP'\n",
        "    #MODEL_NAME = 'GIN'\n",
        "    MODEL_NAME = 'MoNet'\n",
        "    \n",
        "\n",
        "    DATASET_NAME = 'SBM_CLUSTER'\n",
        "    #DATASET_NAME = 'SBM_PATTERN'\n",
        "\n",
        "    out_dir = 'out/SBMs_node_classification/'\n",
        "    root_log_dir = out_dir + 'logs/' + MODEL_NAME + \"_\" + DATASET_NAME + \"_\" + time.strftime('%Hh%Mm%Ss_on_%b_%d_%Y')\n",
        "    root_ckpt_dir = out_dir + 'checkpoints/' + MODEL_NAME + \"_\" + DATASET_NAME + \"_\" + time.strftime('%Hh%Mm%Ss_on_%b_%d_%Y')\n",
        "\n",
        "    dataset = LoadData(DATASET_NAME)\n",
        "    trainset, valset, testset = dataset.train, dataset.val, dataset.test"
      ],
      "execution_count": 15,
      "outputs": [
        {
          "output_type": "stream",
          "text": [
            "[I] Loading dataset SBM_CLUSTER...\n",
            "train, test, val sizes : 10000 1000 1000\n",
            "[I] Finished loading.\n",
            "[I] Data load time: 20.9163s\n"
          ],
          "name": "stdout"
        }
      ]
    },
    {
      "cell_type": "code",
      "metadata": {
        "id": "BPEqn1N8A6v5"
      },
      "source": [
        "#MODEL_NAME = 'RingGNN'\n",
        "#MODEL_NAME = 'GatedGCN'\n",
        "#MODEL_NAME = 'GCN'\n",
        "#MODEL_NAME = 'GAT'\n",
        "#MODEL_NAME = 'GraphSage'\n",
        "#MODEL_NAME = 'MLP'\n",
        "#MODEL_NAME = 'DiffPool'\n",
        "#MODEL_NAME = 'GIN'\n",
        "MODEL_NAME = 'MoNet'"
      ],
      "execution_count": 16,
      "outputs": []
    },
    {
      "cell_type": "code",
      "metadata": {
        "id": "ErnyyAXPJK3q"
      },
      "source": [
        "# \"\"\"\n",
        "#     PARAMETERS\n",
        "# \"\"\"\n",
        "if notebook_mode == True:\n",
        "\n",
        "    n_heads = -1\n",
        "    edge_feat = False\n",
        "    pseudo_dim_MoNet = -1\n",
        "    kernel = -1\n",
        "    gnn_per_block = -1\n",
        "    embedding_dim = -1\n",
        "    pool_ratio = -1\n",
        "    n_mlp_GIN = -1\n",
        "    gated = False\n",
        "    self_loop = False\n",
        "    #self_loop = True\n",
        "    max_time = 12\n",
        "    pos_enc = True\n",
        "    #pos_enc = False\n",
        "    pos_enc_dim = 10\n",
        "    \n",
        "\n",
        "    if MODEL_NAME == 'GatedGCN':\n",
        "        seed=41; epochs=1000; batch_size=5; init_lr=5e-5; lr_reduce_factor=0.5; lr_schedule_patience=25; min_lr = 1e-6; weight_decay=0\n",
        "        L=4; hidden_dim=70; out_dim=hidden_dim; dropout=0.0; readout='mean'\n",
        "\n",
        "    if MODEL_NAME == 'GCN':\n",
        "        seed=41; epochs=1000; batch_size=5; init_lr=5e-5; lr_reduce_factor=0.5; lr_schedule_patience=25; min_lr = 1e-6; weight_decay=0\n",
        "        L=4; hidden_dim=146; out_dim=hidden_dim; dropout=0.0; readout='mean'\n",
        "\n",
        "    if MODEL_NAME == 'GAT':\n",
        "        seed=41; epochs=1000; batch_size=50; init_lr=5e-5; lr_reduce_factor=0.5; lr_schedule_patience=25; min_lr = 1e-6; weight_decay=0\n",
        "        L=4; n_heads=8; hidden_dim=19; out_dim=n_heads*hidden_dim; dropout=0.0; readout='mean'\n",
        "        print('True hidden dim:',out_dim)\n",
        "\n",
        "    if MODEL_NAME == 'GraphSage':\n",
        "        seed=41; epochs=1000; batch_size=50; init_lr=5e-5; lr_reduce_factor=0.5; lr_schedule_patience=25; min_lr = 1e-6; weight_decay=0\n",
        "        L=4; hidden_dim=108; out_dim=hidden_dim; dropout=0.0; readout='mean'\n",
        "\n",
        "    if MODEL_NAME == 'MLP':\n",
        "        seed=41; epochs=1000; batch_size=50; init_lr=5e-4; lr_reduce_factor=0.5; lr_schedule_patience=25; min_lr = 1e-6; weight_decay=0\n",
        "        gated=False; # MEAN\n",
        "        L=4; hidden_dim=150; out_dim=hidden_dim; dropout=0.0; readout='mean'\n",
        "        gated=True; # GATED\n",
        "        L=4; hidden_dim=135; out_dim=hidden_dim; dropout=0.0; readout='mean'\n",
        "        \n",
        "    if MODEL_NAME == 'DiffPool':\n",
        "        seed=41; epochs=1000; batch_size=50; init_lr=5e-4; lr_reduce_factor=0.5; lr_schedule_patience=25; min_lr = 1e-6; weight_decay=0\n",
        "        L=4; hidden_dim=32; out_dim=hidden_dim; dropout=0.0; readout='mean'\n",
        "        n_heads=8; gnn_per_block=3; embedding_dim=32; batch_size=128; pool_ratio=0.15\n",
        "\n",
        "    if MODEL_NAME == 'GIN':\n",
        "        seed=41; epochs=1000; batch_size=50; init_lr=5e-4; lr_reduce_factor=0.5; lr_schedule_patience=25; min_lr = 1e-6; weight_decay=0\n",
        "        L=4; hidden_dim=110; out_dim=hidden_dim; dropout=0.0; readout='mean'\n",
        "        n_mlp_GIN = 2; learn_eps_GIN=True; neighbor_aggr_GIN='sum'\n",
        "\n",
        "    if MODEL_NAME == 'MoNet':\n",
        "        seed=41; epochs=120; batch_size=50; init_lr=5e-4; lr_reduce_factor=0.5; lr_schedule_patience=25; min_lr = 1e-6; weight_decay=0\n",
        "        L=8; hidden_dim=90; out_dim=hidden_dim; dropout=0.0; readout='mean'\n",
        "        pseudo_dim_MoNet=2; kernel=3;\n",
        "        \n",
        "    if MODEL_NAME == 'RingGNN':\n",
        "        seed=41; epochs=1000; batch_size=1; init_lr=5e-5; lr_reduce_factor=0.5; lr_schedule_patience=25; min_lr = 1e-6; weight_decay=0\n",
        "        #L=4; hidden_dim=145; out_dim=hidden_dim; dropout=0.0; readout='mean'\n",
        "        L=4; hidden_dim=25; out_dim=hidden_dim; dropout=0.0\n",
        "        \n",
        "    if MODEL_NAME == '3WLGNN':\n",
        "        seed=41; epochs=1000; batch_size=1; init_lr=5e-5; lr_reduce_factor=0.5; lr_schedule_patience=25; min_lr = 1e-6; weight_decay=0\n",
        "        L=4; hidden_dim=82; out_dim=hidden_dim; dropout=0.0\n",
        "      \n",
        "\n",
        "        \n",
        "    # generic new_params\n",
        "    net_params = {}\n",
        "    net_params['device'] = device\n",
        "    net_params['in_dim'] = torch.unique(trainset[0][0].ndata['feat'],dim=0).size(0) # node_dim (feat is an integer)\n",
        "    net_params['hidden_dim'] = hidden_dim\n",
        "    net_params['out_dim'] = out_dim\n",
        "    num_classes = torch.unique(trainset[0][1],dim=0).size(0)\n",
        "    net_params['n_classes'] = num_classes\n",
        "    net_params['L'] = L  # min L should be 2\n",
        "    net_params['readout'] = \"mean\"\n",
        "    net_params['layer_norm'] = True\n",
        "    net_params['batch_norm'] = True\n",
        "    net_params['in_feat_dropout'] = 0.0\n",
        "    net_params['dropout'] = 0.0\n",
        "    net_params['residual'] = True\n",
        "    net_params['edge_feat'] = edge_feat\n",
        "    net_params['self_loop'] = self_loop\n",
        "    \n",
        "    # for MLPNet \n",
        "    net_params['gated'] = gated  \n",
        "    \n",
        "    # for GAT\n",
        "    net_params['n_heads'] = n_heads \n",
        "    \n",
        "    # for graphsage\n",
        "    net_params['sage_aggregator'] = 'meanpool' \n",
        "\n",
        "    # specific for GIN\n",
        "    net_params['n_mlp_GIN'] = n_mlp_GIN\n",
        "    net_params['learn_eps_GIN'] = True\n",
        "    net_params['neighbor_aggr_GIN'] = 'sum'\n",
        "    \n",
        "    # specific for MoNet\n",
        "    net_params['pseudo_dim_MoNet'] = pseudo_dim_MoNet\n",
        "    net_params['kernel'] = kernel\n",
        "    \n",
        "    # specific for RingGNN\n",
        "    net_params['radius'] = 2\n",
        "    num_nodes = [dataset.train[i][0].number_of_nodes() for i in range(len(dataset.train))]\n",
        "    net_params['avg_node_num'] = int(np.ceil(np.mean(num_nodes)))\n",
        "    \n",
        "    # specific for 3WLGNN\n",
        "    net_params['depth_of_mlp'] = 2\n",
        "    \n",
        "    # specific for pos_enc_dim\n",
        "    net_params['pos_enc'] = pos_enc\n",
        "    net_params['pos_enc_dim'] = pos_enc_dim\n",
        "    "
      ],
      "execution_count": 17,
      "outputs": []
    },
    {
      "cell_type": "code",
      "metadata": {
        "colab": {
          "base_uri": "https://localhost:8080/"
        },
        "id": "QS2hYp3kBPKo",
        "outputId": "b91514ab-6185-4a6d-9789-7dce4ab3ace0"
      },
      "source": [
        "\"\"\"\n",
        "    VIEWING MODEL CONFIG AND PARAMS\n",
        "\"\"\"\n",
        "def view_model_param(MODEL_NAME, net_params):\n",
        "    model = gnn_model(MODEL_NAME, net_params)\n",
        "    total_param = 0\n",
        "    print(\"MODEL DETAILS:\\n\")\n",
        "    print(model)\n",
        "    for param in model.parameters():\n",
        "        # print(param.data.size())\n",
        "        total_param += np.prod(list(param.data.size()))\n",
        "    print('MODEL/Total parameters:', MODEL_NAME, total_param)\n",
        "    return total_param\n",
        "\n",
        "\n",
        "if notebook_mode == True:\n",
        "    view_model_param(MODEL_NAME, net_params)"
      ],
      "execution_count": 18,
      "outputs": [
        {
          "output_type": "stream",
          "text": [
            "MODEL DETAILS:\n",
            "\n",
            "MoNet(\n",
            "  (embedding_h): Embedding(7, 90)\n",
            "  (layers): ModuleList(\n",
            "    (0): GMMLayer(\n",
            "      (fc): Linear(in_features=90, out_features=270, bias=False)\n",
            "      (bn_node_h): BatchNorm1d(90, eps=1e-05, momentum=0.1, affine=True, track_running_stats=True)\n",
            "    )\n",
            "    (1): GMMLayer(\n",
            "      (fc): Linear(in_features=90, out_features=270, bias=False)\n",
            "      (bn_node_h): BatchNorm1d(90, eps=1e-05, momentum=0.1, affine=True, track_running_stats=True)\n",
            "    )\n",
            "    (2): GMMLayer(\n",
            "      (fc): Linear(in_features=90, out_features=270, bias=False)\n",
            "      (bn_node_h): BatchNorm1d(90, eps=1e-05, momentum=0.1, affine=True, track_running_stats=True)\n",
            "    )\n",
            "    (3): GMMLayer(\n",
            "      (fc): Linear(in_features=90, out_features=270, bias=False)\n",
            "      (bn_node_h): BatchNorm1d(90, eps=1e-05, momentum=0.1, affine=True, track_running_stats=True)\n",
            "    )\n",
            "    (4): GMMLayer(\n",
            "      (fc): Linear(in_features=90, out_features=270, bias=False)\n",
            "      (bn_node_h): BatchNorm1d(90, eps=1e-05, momentum=0.1, affine=True, track_running_stats=True)\n",
            "    )\n",
            "    (5): GMMLayer(\n",
            "      (fc): Linear(in_features=90, out_features=270, bias=False)\n",
            "      (bn_node_h): BatchNorm1d(90, eps=1e-05, momentum=0.1, affine=True, track_running_stats=True)\n",
            "    )\n",
            "    (6): GMMLayer(\n",
            "      (fc): Linear(in_features=90, out_features=270, bias=False)\n",
            "      (bn_node_h): BatchNorm1d(90, eps=1e-05, momentum=0.1, affine=True, track_running_stats=True)\n",
            "    )\n",
            "    (7): GMMLayer(\n",
            "      (fc): Linear(in_features=90, out_features=270, bias=False)\n",
            "      (bn_node_h): BatchNorm1d(90, eps=1e-05, momentum=0.1, affine=True, track_running_stats=True)\n",
            "    )\n",
            "  )\n",
            "  (pseudo_proj): ModuleList(\n",
            "    (0): Sequential(\n",
            "      (0): Linear(in_features=2, out_features=2, bias=True)\n",
            "      (1): Tanh()\n",
            "    )\n",
            "    (1): Sequential(\n",
            "      (0): Linear(in_features=2, out_features=2, bias=True)\n",
            "      (1): Tanh()\n",
            "    )\n",
            "    (2): Sequential(\n",
            "      (0): Linear(in_features=2, out_features=2, bias=True)\n",
            "      (1): Tanh()\n",
            "    )\n",
            "    (3): Sequential(\n",
            "      (0): Linear(in_features=2, out_features=2, bias=True)\n",
            "      (1): Tanh()\n",
            "    )\n",
            "    (4): Sequential(\n",
            "      (0): Linear(in_features=2, out_features=2, bias=True)\n",
            "      (1): Tanh()\n",
            "    )\n",
            "    (5): Sequential(\n",
            "      (0): Linear(in_features=2, out_features=2, bias=True)\n",
            "      (1): Tanh()\n",
            "    )\n",
            "    (6): Sequential(\n",
            "      (0): Linear(in_features=2, out_features=2, bias=True)\n",
            "      (1): Tanh()\n",
            "    )\n",
            "    (7): Sequential(\n",
            "      (0): Linear(in_features=2, out_features=2, bias=True)\n",
            "      (1): Tanh()\n",
            "    )\n",
            "  )\n",
            "  (MLP_layer): MLPReadout(\n",
            "    (FC_layers): ModuleList(\n",
            "      (0): Linear(in_features=90, out_features=45, bias=True)\n",
            "      (1): Linear(in_features=45, out_features=22, bias=True)\n",
            "      (2): Linear(in_features=22, out_features=6, bias=True)\n",
            "    )\n",
            "  )\n",
            ")\n",
            "MODEL/Total parameters: MoNet 202579\n"
          ],
          "name": "stdout"
        }
      ]
    },
    {
      "cell_type": "code",
      "metadata": {
        "id": "sdg5T2gMJK3t"
      },
      "source": [
        "\"\"\"\n",
        "    TRAINING CODE\n",
        "\"\"\"\n",
        "\n",
        "def train_val_pipeline(MODEL_NAME, dataset, params, net_params, dirs):\n",
        "    \n",
        "    start0 = time.time()\n",
        "    per_epoch_time = []\n",
        "    \n",
        "    DATASET_NAME = dataset.name\n",
        "    \n",
        "    if MODEL_NAME in ['GCN', 'GAT']:\n",
        "        if net_params['self_loop']:\n",
        "            print(\"[!] Adding graph self-loops for GCN/GAT models (central node trick).\")\n",
        "            dataset._add_self_loops()\n",
        "    \n",
        "    if MODEL_NAME in ['GatedGCN']:\n",
        "        if net_params['pos_enc']:\n",
        "            print(\"[!] Adding graph positional encoding.\")\n",
        "            dataset._add_positional_encodings(net_params['pos_enc_dim'])\n",
        "            print('Time PE:',time.time()-start0)\n",
        "        \n",
        "    trainset, valset, testset = dataset.train, dataset.val, dataset.test\n",
        "        \n",
        "    root_log_dir, root_ckpt_dir, write_file_name, write_config_file = dirs\n",
        "    device = net_params['device']\n",
        "    \n",
        "    # Write network and optimization hyper-parameters in folder config/\n",
        "    with open(write_config_file + '.txt', 'w') as f:\n",
        "        f.write(\"\"\"Dataset: {},\\nModel: {}\\n\\nparams={}\\n\\nnet_params={}\\n\\n\\nTotal Parameters: {}\\n\\n\"\"\"\\\n",
        "                .format(DATASET_NAME, MODEL_NAME, params, net_params, net_params['total_param']))\n",
        "        \n",
        "    log_dir = os.path.join(root_log_dir, \"RUN_\" + str(0))\n",
        "    writer = SummaryWriter(log_dir=log_dir)\n",
        "\n",
        "    # setting seeds\n",
        "    random.seed(params['seed'])\n",
        "    np.random.seed(params['seed'])\n",
        "    torch.manual_seed(params['seed'])\n",
        "    if device.type == 'cuda':\n",
        "        torch.cuda.manual_seed(params['seed'])\n",
        "    \n",
        "    print(\"Training Graphs: \", len(trainset))\n",
        "    print(\"Validation Graphs: \", len(valset))\n",
        "    print(\"Test Graphs: \", len(testset))\n",
        "    print(\"Number of Classes: \", net_params['n_classes'])\n",
        "\n",
        "    model = gnn_model(MODEL_NAME, net_params)\n",
        "    model = model.to(device)\n",
        "\n",
        "    optimizer = optim.Adam(model.parameters(), lr=params['init_lr'], weight_decay=params['weight_decay'])\n",
        "    scheduler = optim.lr_scheduler.ReduceLROnPlateau(optimizer, mode='min',\n",
        "                                                     factor=params['lr_reduce_factor'],\n",
        "                                                     patience=params['lr_schedule_patience'],\n",
        "                                                     verbose=True)\n",
        "    \n",
        "    epoch_train_losses, epoch_val_losses = [], []\n",
        "    epoch_train_accs, epoch_val_accs = [], [] \n",
        "    \n",
        "    if MODEL_NAME in ['RingGNN', '3WLGNN']:\n",
        "        # import train functions specific for WL-GNNs\n",
        "        from train.train_SBMs_node_classification import train_epoch_dense as train_epoch, evaluate_network_dense as evaluate_network\n",
        "        \n",
        "        train_loader = DataLoader(trainset, shuffle=True, collate_fn=dataset.collate_dense_gnn)\n",
        "        val_loader = DataLoader(valset, shuffle=False, collate_fn=dataset.collate_dense_gnn)\n",
        "        test_loader = DataLoader(testset, shuffle=False, collate_fn=dataset.collate_dense_gnn)\n",
        "        \n",
        "    else:\n",
        "        # import train functions for all other GCNs\n",
        "        from train.train_SBMs_node_classification import train_epoch_sparse as train_epoch, evaluate_network_sparse as evaluate_network # import train functions\n",
        "        \n",
        "        train_loader = DataLoader(trainset, batch_size=params['batch_size'], shuffle=True, collate_fn=dataset.collate)\n",
        "        val_loader = DataLoader(valset, batch_size=params['batch_size'], shuffle=False, collate_fn=dataset.collate)\n",
        "        test_loader = DataLoader(testset, batch_size=params['batch_size'], shuffle=False, collate_fn=dataset.collate)\n",
        "        \n",
        "    # At any point you can hit Ctrl + C to break out of training early.\n",
        "    try:\n",
        "        with tqdm(range(params['epochs'])) as t:\n",
        "            for epoch in t:\n",
        "\n",
        "                t.set_description('Epoch %d' % epoch)\n",
        "\n",
        "                start = time.time()\n",
        "\n",
        "                if MODEL_NAME in ['RingGNN', '3WLGNN']: # since different batch training function for dense GNNs\n",
        "                    epoch_train_loss, epoch_train_acc, optimizer = train_epoch(model, optimizer, device, train_loader, epoch, params['batch_size'])\n",
        "                else:   # for all other models common train function\n",
        "                    epoch_train_loss, epoch_train_acc, optimizer = train_epoch(model, optimizer, device, train_loader, epoch)\n",
        "                    \n",
        "                epoch_val_loss, epoch_val_acc = evaluate_network(model, device, val_loader, epoch)\n",
        "                _, epoch_test_acc = evaluate_network(model, device, test_loader, epoch)        \n",
        "                \n",
        "                epoch_train_losses.append(epoch_train_loss)\n",
        "                epoch_val_losses.append(epoch_val_loss)\n",
        "                epoch_train_accs.append(epoch_train_acc)\n",
        "                epoch_val_accs.append(epoch_val_acc)\n",
        "\n",
        "                writer.add_scalar('train/_loss', epoch_train_loss, epoch)\n",
        "                writer.add_scalar('val/_loss', epoch_val_loss, epoch)\n",
        "                writer.add_scalar('train/_acc', epoch_train_acc, epoch)\n",
        "                writer.add_scalar('val/_acc', epoch_val_acc, epoch)\n",
        "                writer.add_scalar('test/_acc', epoch_test_acc, epoch)\n",
        "                writer.add_scalar('learning_rate', optimizer.param_groups[0]['lr'], epoch)\n",
        "\n",
        "                t.set_postfix(time=time.time()-start, lr=optimizer.param_groups[0]['lr'],\n",
        "                              train_loss=epoch_train_loss, val_loss=epoch_val_loss,\n",
        "                              train_acc=epoch_train_acc, val_acc=epoch_val_acc,\n",
        "                              test_acc=epoch_test_acc)\n",
        "\n",
        "                per_epoch_time.append(time.time()-start)\n",
        "\n",
        "                # Saving checkpoint\n",
        "                ckpt_dir = os.path.join(root_ckpt_dir, \"RUN_\")\n",
        "                if not os.path.exists(ckpt_dir):\n",
        "                    os.makedirs(ckpt_dir)\n",
        "                torch.save(model.state_dict(), '{}.pkl'.format(ckpt_dir + \"/epoch_\" + str(epoch)))\n",
        "\n",
        "                files = glob.glob(ckpt_dir + '/*.pkl')\n",
        "                for file in files:\n",
        "                    epoch_nb = file.split('_')[-1]\n",
        "                    epoch_nb = int(epoch_nb.split('.')[0])\n",
        "                    if epoch_nb < epoch-1:\n",
        "                        os.remove(file)\n",
        "\n",
        "                scheduler.step(epoch_val_loss)\n",
        "\n",
        "                if optimizer.param_groups[0]['lr'] < params['min_lr']:\n",
        "                    print(\"\\n!! LR SMALLER OR EQUAL TO MIN LR THRESHOLD.\")\n",
        "                    break\n",
        "                    \n",
        "                # Stop training after params['max_time'] hours\n",
        "                if time.time()-start0 > params['max_time']*3600:\n",
        "                    print('-' * 89)\n",
        "                    print(\"Max_time for training elapsed {:.2f} hours, so stopping\".format(params['max_time']))\n",
        "                    break\n",
        "    \n",
        "    except KeyboardInterrupt:\n",
        "        print('-' * 89)\n",
        "        print('Exiting from training early because of KeyboardInterrupt')\n",
        "    \n",
        "    \n",
        "    _, test_acc = evaluate_network(model, device, test_loader, epoch)\n",
        "    _, train_acc = evaluate_network(model, device, train_loader, epoch)\n",
        "    print(\"Test Accuracy: {:.4f}\".format(test_acc))\n",
        "    print(\"Train Accuracy: {:.4f}\".format(train_acc))\n",
        "    print(\"Convergence Time (Epochs): {:.4f}\".format(epoch))\n",
        "    print(\"TOTAL TIME TAKEN: {:.4f}s\".format(time.time()-start0))\n",
        "    print(\"AVG TIME PER EPOCH: {:.4f}s\".format(np.mean(per_epoch_time)))\n",
        "\n",
        "    writer.close()\n",
        "\n",
        "    \"\"\"\n",
        "        Write the results in out_dir/results folder\n",
        "    \"\"\"\n",
        "    with open(write_file_name + '.txt', 'w') as f:\n",
        "        f.write(\"\"\"Dataset: {},\\nModel: {}\\n\\nparams={}\\n\\nnet_params={}\\n\\n{}\\n\\nTotal Parameters: {}\\n\\n\n",
        "    FINAL RESULTS\\nTEST ACCURACY: {:.4f}\\nTRAIN ACCURACY: {:.4f}\\n\\n\n",
        "    Convergence Time (Epochs): {:.4f}\\nTotal Time Taken: {:.4f} hrs\\nAverage Time Per Epoch: {:.4f} s\\n\\n\\n\"\"\"\\\n",
        "          .format(DATASET_NAME, MODEL_NAME, params, net_params, model, net_params['total_param'],\n",
        "                  test_acc, train_acc, epoch, (time.time()-start0)/3600, np.mean(per_epoch_time)))\n",
        "\n",
        "        "
      ],
      "execution_count": 19,
      "outputs": []
    },
    {
      "cell_type": "code",
      "metadata": {
        "colab": {
          "base_uri": "https://localhost:8080/"
        },
        "id": "x7EmSN4xBeRR",
        "outputId": "b2fbf39e-13c7-4de0-a0d9-1c69edc222eb"
      },
      "source": [
        "!pip install nbconvert\n",
        "import nbconvert"
      ],
      "execution_count": 20,
      "outputs": [
        {
          "output_type": "stream",
          "text": [
            "Requirement already satisfied: nbconvert in /usr/local/lib/python3.7/site-packages (5.6.1)\n",
            "Requirement already satisfied: traitlets>=4.2 in /usr/local/lib/python3.7/site-packages (from nbconvert) (4.3.3)\n",
            "Requirement already satisfied: nbformat>=4.4 in /usr/local/lib/python3.7/site-packages (from nbconvert) (5.0.4)\n",
            "Requirement already satisfied: bleach in /usr/local/lib/python3.7/site-packages (from nbconvert) (3.1.0)\n",
            "Requirement already satisfied: mistune<2,>=0.8.1 in /usr/local/lib/python3.7/site-packages (from nbconvert) (0.8.4)\n",
            "Requirement already satisfied: pandocfilters>=1.4.1 in /usr/local/lib/python3.7/site-packages (from nbconvert) (1.4.2)\n",
            "Requirement already satisfied: testpath in /usr/local/lib/python3.7/site-packages (from nbconvert) (0.4.4)\n",
            "Requirement already satisfied: jinja2>=2.4 in /usr/local/lib/python3.7/site-packages (from nbconvert) (2.11.1)\n",
            "Requirement already satisfied: defusedxml in /usr/local/lib/python3.7/site-packages (from nbconvert) (0.6.0)\n",
            "Requirement already satisfied: jupyter-core in /usr/local/lib/python3.7/site-packages (from nbconvert) (4.6.1)\n",
            "Requirement already satisfied: entrypoints>=0.2.2 in /usr/local/lib/python3.7/site-packages (from nbconvert) (0.3)\n",
            "Requirement already satisfied: pygments in /usr/local/lib/python3.7/site-packages (from nbconvert) (2.5.2)\n",
            "Requirement already satisfied: ipython-genutils in /usr/local/lib/python3.7/site-packages (from traitlets>=4.2->nbconvert) (0.2.0)\n",
            "Requirement already satisfied: decorator in /usr/local/lib/python3.7/site-packages (from traitlets>=4.2->nbconvert) (4.4.1)\n",
            "Requirement already satisfied: six in /usr/local/lib/python3.7/site-packages (from traitlets>=4.2->nbconvert) (1.14.0)\n",
            "Requirement already satisfied: jsonschema!=2.5.0,>=2.4 in /usr/local/lib/python3.7/site-packages (from nbformat>=4.4->nbconvert) (3.2.0)\n",
            "Requirement already satisfied: webencodings in /usr/local/lib/python3.7/site-packages (from bleach->nbconvert) (0.5.1)\n",
            "Requirement already satisfied: MarkupSafe>=0.23 in /usr/local/lib/python3.7/site-packages (from jinja2>=2.4->nbconvert) (1.1.1)\n",
            "Requirement already satisfied: importlib-metadata; python_version < \"3.8\" in /usr/local/lib/python3.7/site-packages (from jsonschema!=2.5.0,>=2.4->nbformat>=4.4->nbconvert) (1.5.0)\n",
            "Requirement already satisfied: attrs>=17.4.0 in /usr/local/lib/python3.7/site-packages (from jsonschema!=2.5.0,>=2.4->nbformat>=4.4->nbconvert) (19.3.0)\n",
            "Requirement already satisfied: pyrsistent>=0.14.0 in /usr/local/lib/python3.7/site-packages (from jsonschema!=2.5.0,>=2.4->nbformat>=4.4->nbconvert) (0.15.7)\n",
            "Requirement already satisfied: setuptools in /usr/local/lib/python3.7/site-packages (from jsonschema!=2.5.0,>=2.4->nbformat>=4.4->nbconvert) (45.2.0.post20200210)\n",
            "Requirement already satisfied: zipp>=0.5 in /usr/local/lib/python3.7/site-packages (from importlib-metadata; python_version < \"3.8\"->jsonschema!=2.5.0,>=2.4->nbformat>=4.4->nbconvert) (2.2.0)\n"
          ],
          "name": "stdout"
        }
      ]
    },
    {
      "cell_type": "code",
      "metadata": {
        "colab": {
          "base_uri": "https://localhost:8080/"
        },
        "id": "JHW73vmSJK3y",
        "outputId": "9ac0a337-9ba1-4f13-8439-4d612aaae778"
      },
      "source": [
        "def main(notebook_mode=False,config=None):\n",
        "    \n",
        "    \"\"\"\n",
        "        USER CONTROLS\n",
        "    \"\"\"\n",
        "    \n",
        "    # terminal mode\n",
        "    if notebook_mode==False:\n",
        "        \n",
        "        parser = argparse.ArgumentParser()\n",
        "        parser.add_argument('--config', help=\"Please give a config.json file with training/model/data/param details\")\n",
        "        parser.add_argument('--gpu_id', help=\"Please give a value for gpu id\")\n",
        "        parser.add_argument('--model', help=\"Please give a value for model name\")\n",
        "        parser.add_argument('--dataset', help=\"Please give a value for dataset name\")\n",
        "        parser.add_argument('--out_dir', help=\"Please give a value for out_dir\")\n",
        "        parser.add_argument('--seed', help=\"Please give a value for seed\")\n",
        "        parser.add_argument('--epochs', help=\"Please give a value for epochs\")\n",
        "        parser.add_argument('--batch_size', help=\"Please give a value for batch_size\")\n",
        "        parser.add_argument('--init_lr', help=\"Please give a value for init_lr\")\n",
        "        parser.add_argument('--lr_reduce_factor', help=\"Please give a value for lr_reduce_factor\")\n",
        "        parser.add_argument('--lr_schedule_patience', help=\"Please give a value for lr_schedule_patience\")\n",
        "        parser.add_argument('--min_lr', help=\"Please give a value for min_lr\")\n",
        "        parser.add_argument('--weight_decay', help=\"Please give a value for weight_decay\")\n",
        "        parser.add_argument('--print_epoch_interval', help=\"Please give a value for print_epoch_interval\")    \n",
        "        parser.add_argument('--L', help=\"Please give a value for L\")\n",
        "        parser.add_argument('--hidden_dim', help=\"Please give a value for hidden_dim\")\n",
        "        parser.add_argument('--out_dim', help=\"Please give a value for out_dim\")\n",
        "        parser.add_argument('--residual', help=\"Please give a value for residual\")\n",
        "        parser.add_argument('--edge_feat', help=\"Please give a value for edge_feat\")\n",
        "        parser.add_argument('--readout', help=\"Please give a value for readout\")\n",
        "        parser.add_argument('--kernel', help=\"Please give a value for kernel\")\n",
        "        parser.add_argument('--n_heads', help=\"Please give a value for n_heads\")\n",
        "        parser.add_argument('--gated', help=\"Please give a value for gated\")\n",
        "        parser.add_argument('--in_feat_dropout', help=\"Please give a value for in_feat_dropout\")\n",
        "        parser.add_argument('--dropout', help=\"Please give a value for dropout\")\n",
        "        parser.add_argument('--layer_norm', help=\"Please give a value for layer_norm\")\n",
        "        parser.add_argument('--batch_norm', help=\"Please give a value for batch_norm\")\n",
        "        parser.add_argument('--sage_aggregator', help=\"Please give a value for sage_aggregator\")\n",
        "        parser.add_argument('--data_mode', help=\"Please give a value for data_mode\")\n",
        "        parser.add_argument('--num_pool', help=\"Please give a value for num_pool\")\n",
        "        parser.add_argument('--gnn_per_block', help=\"Please give a value for gnn_per_block\")\n",
        "        parser.add_argument('--embedding_dim', help=\"Please give a value for embedding_dim\")\n",
        "        parser.add_argument('--pool_ratio', help=\"Please give a value for pool_ratio\")\n",
        "        parser.add_argument('--linkpred', help=\"Please give a value for linkpred\")\n",
        "        parser.add_argument('--cat', help=\"Please give a value for cat\")\n",
        "        parser.add_argument('--self_loop', help=\"Please give a value for self_loop\")\n",
        "        parser.add_argument('--max_time', help=\"Please give a value for max_time\")\n",
        "        parser.add_argument('--pos_enc_dim', help=\"Please give a value for pos_enc_dim\")\n",
        "        parser.add_argument('--pos_enc', help=\"Please give a value for pos_enc\")\n",
        "        args = parser.parse_args()\n",
        "        with open(args.config) as f:\n",
        "            config = json.load(f)\n",
        "            \n",
        "\n",
        "        # device\n",
        "        if args.gpu_id is not None:\n",
        "            config['gpu']['id'] = int(args.gpu_id)\n",
        "            config['gpu']['use'] = True\n",
        "        device = gpu_setup(config['gpu']['use'], config['gpu']['id'])\n",
        "\n",
        "        # model, dataset, out_dir\n",
        "        if args.model is not None:\n",
        "            MODEL_NAME = args.model\n",
        "        else:\n",
        "            MODEL_NAME = config['model']\n",
        "        if args.dataset is not None:\n",
        "            DATASET_NAME = args.dataset\n",
        "        else:\n",
        "            DATASET_NAME = config['dataset']\n",
        "        dataset = LoadData(DATASET_NAME)\n",
        "        if args.out_dir is not None:\n",
        "            out_dir = args.out_dir\n",
        "        else:\n",
        "            out_dir = config['out_dir']\n",
        "\n",
        "        # parameters\n",
        "        params = config['params']\n",
        "        if args.seed is not None:\n",
        "            params['seed'] = int(args.seed)\n",
        "        if args.epochs is not None:\n",
        "            params['epochs'] = int(args.epochs)\n",
        "        if args.batch_size is not None:\n",
        "            params['batch_size'] = int(args.batch_size)\n",
        "        if args.init_lr is not None:\n",
        "            params['init_lr'] = float(args.init_lr)\n",
        "        if args.lr_reduce_factor is not None:\n",
        "            params['lr_reduce_factor'] = float(args.lr_reduce_factor)\n",
        "        if args.lr_schedule_patience is not None:\n",
        "            params['lr_schedule_patience'] = int(args.lr_schedule_patience)\n",
        "        if args.min_lr is not None:\n",
        "            params['min_lr'] = float(args.min_lr)\n",
        "        if args.weight_decay is not None:\n",
        "            params['weight_decay'] = float(args.weight_decay)\n",
        "        if args.print_epoch_interval is not None:\n",
        "            params['print_epoch_interval'] = int(args.print_epoch_interval)\n",
        "        if args.max_time is not None:\n",
        "            params['max_time'] = float(args.max_time)\n",
        "\n",
        "        # network parameters\n",
        "        net_params = config['net_params']\n",
        "        net_params['device'] = device\n",
        "        net_params['gpu_id'] = config['gpu']['id']\n",
        "        net_params['batch_size'] = params['batch_size']\n",
        "        if args.L is not None:\n",
        "            net_params['L'] = int(args.L)\n",
        "        if args.hidden_dim is not None:\n",
        "            net_params['hidden_dim'] = int(args.hidden_dim)\n",
        "        if args.out_dim is not None:\n",
        "            net_params['out_dim'] = int(args.out_dim)   \n",
        "        if args.residual is not None:\n",
        "            net_params['residual'] = True if args.residual=='True' else False\n",
        "        if args.edge_feat is not None:\n",
        "            net_params['edge_feat'] = True if args.edge_feat=='True' else False\n",
        "        if args.readout is not None:\n",
        "            net_params['readout'] = args.readout\n",
        "        if args.kernel is not None:\n",
        "            net_params['kernel'] = int(args.kernel)\n",
        "        if args.n_heads is not None:\n",
        "            net_params['n_heads'] = int(args.n_heads)\n",
        "        if args.gated is not None:\n",
        "            net_params['gated'] = True if args.gated=='True' else False\n",
        "        if args.in_feat_dropout is not None:\n",
        "            net_params['in_feat_dropout'] = float(args.in_feat_dropout)\n",
        "        if args.dropout is not None:\n",
        "            net_params['dropout'] = float(args.dropout)\n",
        "        if args.layer_norm is not None:\n",
        "            net_params['layer_norm'] = True if args.layer_norm=='True' else False\n",
        "        if args.batch_norm is not None:\n",
        "            net_params['batch_norm'] = True if args.batch_norm=='True' else False\n",
        "        if args.sage_aggregator is not None:\n",
        "            net_params['sage_aggregator'] = args.sage_aggregator\n",
        "        if args.data_mode is not None:\n",
        "            net_params['data_mode'] = args.data_mode\n",
        "        if args.num_pool is not None:\n",
        "            net_params['num_pool'] = int(args.num_pool)\n",
        "        if args.gnn_per_block is not None:\n",
        "            net_params['gnn_per_block'] = int(args.gnn_per_block)\n",
        "        if args.embedding_dim is not None:\n",
        "            net_params['embedding_dim'] = int(args.embedding_dim)\n",
        "        if args.pool_ratio is not None:\n",
        "            net_params['pool_ratio'] = float(args.pool_ratio)\n",
        "        if args.linkpred is not None:\n",
        "            net_params['linkpred'] = True if args.linkpred=='True' else False\n",
        "        if args.cat is not None:\n",
        "            net_params['cat'] = True if args.cat=='True' else False\n",
        "        if args.self_loop is not None:\n",
        "            net_params['self_loop'] = True if args.self_loop=='True' else False\n",
        "        if args.pos_enc is not None:\n",
        "            net_params['pos_enc'] = True if args.pos_enc=='True' else False\n",
        "        if args.pos_enc_dim is not None:\n",
        "            net_params['pos_enc_dim'] = int(args.pos_enc_dim)\n",
        "\n",
        "            \n",
        "    # notebook mode\n",
        "    if notebook_mode:\n",
        "        \n",
        "        # parameters\n",
        "        params = config['params']\n",
        "        \n",
        "        # dataset\n",
        "        DATASET_NAME = config['dataset']\n",
        "        dataset = LoadData(DATASET_NAME)\n",
        "        \n",
        "        # device\n",
        "        device = gpu_setup(config['gpu']['use'], config['gpu']['id'])\n",
        "        out_dir = config['out_dir']\n",
        "        \n",
        "        # GNN model\n",
        "        MODEL_NAME = config['model']\n",
        "        \n",
        "        # network parameters\n",
        "        net_params = config['net_params']\n",
        "        net_params['device'] = device\n",
        "        net_params['gpu_id'] = config['gpu']['id']\n",
        "        net_params['batch_size'] = params['batch_size']\n",
        "        \n",
        "            \n",
        "    # SBM\n",
        "    net_params['in_dim'] = torch.unique(dataset.train[0][0].ndata['feat'],dim=0).size(0) # node_dim (feat is an integer)\n",
        "    net_params['n_classes'] = torch.unique(dataset.train[0][1],dim=0).size(0)\n",
        "    \n",
        "    if MODEL_NAME == 'RingGNN':\n",
        "        num_nodes = [dataset.train[i][0].number_of_nodes() for i in range(len(dataset.train))]\n",
        "        net_params['avg_node_num'] = int(np.ceil(np.mean(num_nodes)))\n",
        "\n",
        "    root_log_dir = out_dir + 'logs/' + MODEL_NAME + \"_\" + DATASET_NAME + \"_GPU\" + str(config['gpu']['id']) + \"_\" + time.strftime('%Hh%Mm%Ss_on_%b_%d_%Y')\n",
        "    root_ckpt_dir = out_dir + 'checkpoints/' + MODEL_NAME + \"_\" + DATASET_NAME + \"_GPU\" + str(config['gpu']['id']) + \"_\" + time.strftime('%Hh%Mm%Ss_on_%b_%d_%Y')\n",
        "    write_file_name = out_dir + 'results/result_' + MODEL_NAME + \"_\" + DATASET_NAME + \"_GPU\" + str(config['gpu']['id']) + \"_\" + time.strftime('%Hh%Mm%Ss_on_%b_%d_%Y')\n",
        "    write_config_file = out_dir + 'configs/config_' + MODEL_NAME + \"_\" + DATASET_NAME + \"_GPU\" + str(config['gpu']['id']) + \"_\" + time.strftime('%Hh%Mm%Ss_on_%b_%d_%Y')\n",
        "    dirs = root_log_dir, root_ckpt_dir, write_file_name, write_config_file\n",
        "\n",
        "    if not os.path.exists(out_dir + 'results'):\n",
        "        os.makedirs(out_dir + 'results')\n",
        "        \n",
        "    if not os.path.exists(out_dir + 'configs'):\n",
        "        os.makedirs(out_dir + 'configs')\n",
        "\n",
        "    net_params['total_param'] = view_model_param(MODEL_NAME, net_params)\n",
        "    train_val_pipeline(MODEL_NAME, dataset, params, net_params, dirs)\n",
        "\n",
        "    \n",
        "    \n",
        "    \n",
        "    \n",
        "    \n",
        "if notebook_mode==True:\n",
        "    \n",
        "    config = {}\n",
        "    # gpu config\n",
        "    gpu = {}\n",
        "    gpu['use'] = use_gpu\n",
        "    gpu['id'] = gpu_id\n",
        "    config['gpu'] = gpu\n",
        "    # GNN model, dataset, out_dir\n",
        "    config['model'] = MODEL_NAME\n",
        "    config['dataset'] = DATASET_NAME\n",
        "    config['out_dir'] = out_dir\n",
        "    # parameters\n",
        "    params = {}\n",
        "    params['seed'] = seed\n",
        "    params['epochs'] = epochs\n",
        "    params['batch_size'] = batch_size\n",
        "    params['init_lr'] = init_lr\n",
        "    params['lr_reduce_factor'] = lr_reduce_factor \n",
        "    params['lr_schedule_patience'] = lr_schedule_patience\n",
        "    params['min_lr'] = min_lr\n",
        "    params['weight_decay'] = weight_decay\n",
        "    params['print_epoch_interval'] = 5\n",
        "    params['max_time'] = max_time\n",
        "    config['params'] = params\n",
        "    # network parameters\n",
        "    config['net_params'] = net_params\n",
        "    \n",
        "    # convert to .py format\n",
        "    from utils.cleaner_main import *\n",
        "    cleaner_main('main_SBMs_node_classification')\n",
        "    \n",
        "    main(True,config)\n",
        "    \n",
        "else:\n",
        "    \n",
        "    main()\n",
        "    "
      ],
      "execution_count": 21,
      "outputs": [
        {
          "output_type": "stream",
          "text": [
            "Convert main_SBMs_node_classification.ipynb to main_SBMs_node_classification.py\n",
            "Clean main_SBMs_node_classification.py\n",
            "Done. \n",
            "[I] Loading dataset SBM_CLUSTER...\n",
            "train, test, val sizes : 10000 1000 1000\n",
            "[I] Finished loading.\n",
            "[I] Data load time: 11.9893s\n",
            "cuda available with GPU: Tesla P100-PCIE-16GB\n",
            "MODEL DETAILS:\n",
            "\n",
            "MoNet(\n",
            "  (embedding_h): Embedding(7, 90)\n",
            "  (layers): ModuleList(\n",
            "    (0): GMMLayer(\n",
            "      (fc): Linear(in_features=90, out_features=270, bias=False)\n",
            "      (bn_node_h): BatchNorm1d(90, eps=1e-05, momentum=0.1, affine=True, track_running_stats=True)\n",
            "    )\n",
            "    (1): GMMLayer(\n",
            "      (fc): Linear(in_features=90, out_features=270, bias=False)\n",
            "      (bn_node_h): BatchNorm1d(90, eps=1e-05, momentum=0.1, affine=True, track_running_stats=True)\n",
            "    )\n",
            "    (2): GMMLayer(\n",
            "      (fc): Linear(in_features=90, out_features=270, bias=False)\n",
            "      (bn_node_h): BatchNorm1d(90, eps=1e-05, momentum=0.1, affine=True, track_running_stats=True)\n",
            "    )\n",
            "    (3): GMMLayer(\n",
            "      (fc): Linear(in_features=90, out_features=270, bias=False)\n",
            "      (bn_node_h): BatchNorm1d(90, eps=1e-05, momentum=0.1, affine=True, track_running_stats=True)\n",
            "    )\n",
            "    (4): GMMLayer(\n",
            "      (fc): Linear(in_features=90, out_features=270, bias=False)\n",
            "      (bn_node_h): BatchNorm1d(90, eps=1e-05, momentum=0.1, affine=True, track_running_stats=True)\n",
            "    )\n",
            "    (5): GMMLayer(\n",
            "      (fc): Linear(in_features=90, out_features=270, bias=False)\n",
            "      (bn_node_h): BatchNorm1d(90, eps=1e-05, momentum=0.1, affine=True, track_running_stats=True)\n",
            "    )\n",
            "    (6): GMMLayer(\n",
            "      (fc): Linear(in_features=90, out_features=270, bias=False)\n",
            "      (bn_node_h): BatchNorm1d(90, eps=1e-05, momentum=0.1, affine=True, track_running_stats=True)\n",
            "    )\n",
            "    (7): GMMLayer(\n",
            "      (fc): Linear(in_features=90, out_features=270, bias=False)\n",
            "      (bn_node_h): BatchNorm1d(90, eps=1e-05, momentum=0.1, affine=True, track_running_stats=True)\n",
            "    )\n",
            "  )\n",
            "  (pseudo_proj): ModuleList(\n",
            "    (0): Sequential(\n",
            "      (0): Linear(in_features=2, out_features=2, bias=True)\n",
            "      (1): Tanh()\n",
            "    )\n",
            "    (1): Sequential(\n",
            "      (0): Linear(in_features=2, out_features=2, bias=True)\n",
            "      (1): Tanh()\n",
            "    )\n",
            "    (2): Sequential(\n",
            "      (0): Linear(in_features=2, out_features=2, bias=True)\n",
            "      (1): Tanh()\n",
            "    )\n",
            "    (3): Sequential(\n",
            "      (0): Linear(in_features=2, out_features=2, bias=True)\n",
            "      (1): Tanh()\n",
            "    )\n",
            "    (4): Sequential(\n",
            "      (0): Linear(in_features=2, out_features=2, bias=True)\n",
            "      (1): Tanh()\n",
            "    )\n",
            "    (5): Sequential(\n",
            "      (0): Linear(in_features=2, out_features=2, bias=True)\n",
            "      (1): Tanh()\n",
            "    )\n",
            "    (6): Sequential(\n",
            "      (0): Linear(in_features=2, out_features=2, bias=True)\n",
            "      (1): Tanh()\n",
            "    )\n",
            "    (7): Sequential(\n",
            "      (0): Linear(in_features=2, out_features=2, bias=True)\n",
            "      (1): Tanh()\n",
            "    )\n",
            "  )\n",
            "  (MLP_layer): MLPReadout(\n",
            "    (FC_layers): ModuleList(\n",
            "      (0): Linear(in_features=90, out_features=45, bias=True)\n",
            "      (1): Linear(in_features=45, out_features=22, bias=True)\n",
            "      (2): Linear(in_features=22, out_features=6, bias=True)\n",
            "    )\n",
            "  )\n",
            ")\n",
            "MODEL/Total parameters: MoNet 202579\n",
            "Training Graphs:  10000\n",
            "Validation Graphs:  1000\n",
            "Test Graphs:  1000\n",
            "Number of Classes:  6\n"
          ],
          "name": "stdout"
        },
        {
          "output_type": "stream",
          "text": [
            "Epoch 60:  50%|█████     | 60/120 [15:37<15:35, 15.59s/it, lr=0.0005, test_acc=33, time=15.6, train_acc=69.5, train_loss=0.826, val_acc=32.5, val_loss=3.92]"
          ],
          "name": "stderr"
        },
        {
          "output_type": "stream",
          "text": [
            "Epoch    60: reducing learning rate of group 0 to 2.5000e-04.\n"
          ],
          "name": "stdout"
        },
        {
          "output_type": "stream",
          "text": [
            "Epoch 98:  82%|████████▏ | 98/120 [25:30<05:44, 15.67s/it, lr=0.00025, test_acc=48.2, time=15.7, train_acc=71.4, train_loss=0.775, val_acc=47.1, val_loss=1.96]"
          ],
          "name": "stderr"
        },
        {
          "output_type": "stream",
          "text": [
            "Epoch    98: reducing learning rate of group 0 to 1.2500e-04.\n"
          ],
          "name": "stdout"
        },
        {
          "output_type": "stream",
          "text": [
            "Epoch 119: 100%|██████████| 120/120 [31:15<00:00, 15.63s/it, lr=0.000125, test_acc=58.5, time=15.7, train_acc=72, train_loss=0.757, val_acc=57.8, val_loss=1.26]\n"
          ],
          "name": "stderr"
        },
        {
          "output_type": "stream",
          "text": [
            "Test Accuracy: 58.4798\n",
            "Train Accuracy: 58.7773\n",
            "Convergence Time (Epochs): 119.0000\n",
            "TOTAL TIME TAKEN: 1890.2130s\n",
            "AVG TIME PER EPOCH: 15.6038s\n"
          ],
          "name": "stdout"
        }
      ]
    }
  ]
}